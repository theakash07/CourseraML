{
  "nbformat": 4,
  "nbformat_minor": 0,
  "metadata": {
    "colab": {
      "provenance": [],
      "authorship_tag": "ABX9TyMV9FeJVtWS3iFPxmOrJicO",
      "include_colab_link": true
    },
    "kernelspec": {
      "name": "python3",
      "display_name": "Python 3"
    },
    "language_info": {
      "name": "python"
    }
  },
  "cells": [
    {
      "cell_type": "markdown",
      "metadata": {
        "id": "view-in-github",
        "colab_type": "text"
      },
      "source": [
        "<a href=\"https://colab.research.google.com/github/theakash07/CourseraML/blob/main/C2_W1_Lab01_Neurons_and_Layers.ipynb\" target=\"_parent\"><img src=\"https://colab.research.google.com/assets/colab-badge.svg\" alt=\"Open In Colab\"/></a>"
      ]
    },
    {
      "cell_type": "markdown",
      "source": [
        "**Use Cases of the libraries we have imported below**\n",
        "\n",
        "\n",
        "\n",
        "1.   **Tensorflow.python.keras.activations**\n",
        "          this module provide various activation function to use in your neural network\n",
        "          1. Relu( Rectified linear Unit) : This is used only when the last layer binary classification.\n",
        "          2. Softmax: This is used only when\n",
        "          3. Sigmoid\n",
        "          4. softplus\n",
        "2.   **From tensorflow.python.keras.layers import Dense, Input**\n",
        "-----------------------------------------------------------------\n",
        "          There are two classes importing\n",
        "          1.Dense\n",
        "          2.Input\n",
        "          Dense is used to create densly neural netwrok.\n",
        "          A dense layer is a type of layer where each layer receives input from previous layer.\n",
        "          Dense Takes several argument\n",
        "          1.units\n",
        "          2.activation, relu, sigmoid and tanh\n",
        "\n",
        "          -----------------------------------------\n",
        "\n",
        "          Input : it is used to instatiate a keras tensor.\n",
        "          An Input layer is typically the first layer in a Keras model.\n",
        "           It’s used to *specify the shape of the inputs that your model\n",
        "            will be trained on*. The Input class takes an argument\n",
        "            shape, which is a tuple that indicates the dimensions of the input data3.\n",
        "            ---------------------------------------------------\n",
        "\n",
        "          \n",
        "3. **from tensorflow.python.keras import Sequential**\n",
        "         The Sequential model is a linear stack of layers that you can\n",
        "          use to build a neural network1. It’s called “Sequential”\n",
        "           because it allows you to build models layer-by-layer in a\n",
        "            step-by-step fashion"
      ],
      "metadata": {
        "id": "NAb1m9uhOcDI"
      }
    },
    {
      "cell_type": "code",
      "execution_count": 3,
      "metadata": {
        "id": "4cq2gRha7DeP"
      },
      "outputs": [],
      "source": [
        "import numpy as np\n",
        "import matplotlib.pyplot as plt\n",
        "import tensorflow as tf\n",
        "import lab_utils_common\n",
        "import lab_neurons_utils\n",
        "import tensorflow.python.keras.activations\n",
        "from tensorflow.python.keras.layers import Dense, Input\n",
        "\n",
        "from tensorflow.python.keras import Sequential\n",
        "from tensorflow.python.keras.losses import MeanSquaredError, BinaryCrossentropy\n",
        "from tensorflow.python.keras.activations import sigmoid\n",
        "from lab_utils_common import dlc\n",
        "from lab_neurons_utils import plt_prob_1d, sigmoidnp, plt_linear, plt_logistic\n",
        "import tensorflow.python.keras.activations\n",
        "plt.style.use('./deeplearning.mplstyle')\n",
        "import logging\n",
        "logging.getLogger(\"tensorflow\").setLevel(logging.ERROR)\n",
        "tf.autograph.set_verbosity(0)"
      ]
    },
    {
      "cell_type": "code",
      "source": [],
      "metadata": {
        "id": "FFe9bFuaFMgY"
      },
      "execution_count": null,
      "outputs": []
    }
  ]
}