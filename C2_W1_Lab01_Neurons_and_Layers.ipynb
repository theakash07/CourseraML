{
  "nbformat": 4,
  "nbformat_minor": 0,
  "metadata": {
    "colab": {
      "provenance": [],
      "authorship_tag": "ABX9TyM7fLrbKTNoFilgc8neFiRn",
      "include_colab_link": true
    },
    "kernelspec": {
      "name": "python3",
      "display_name": "Python 3"
    },
    "language_info": {
      "name": "python"
    }
  },
  "cells": [
    {
      "cell_type": "markdown",
      "metadata": {
        "id": "view-in-github",
        "colab_type": "text"
      },
      "source": [
        "<a href=\"https://colab.research.google.com/github/theakash07/CourseraML/blob/main/C2_W1_Lab01_Neurons_and_Layers.ipynb\" target=\"_parent\"><img src=\"https://colab.research.google.com/assets/colab-badge.svg\" alt=\"Open In Colab\"/></a>"
      ]
    },
    {
      "cell_type": "code",
      "execution_count": 8,
      "metadata": {
        "id": "4cq2gRha7DeP"
      },
      "outputs": [],
      "source": [
        "import numpy as np\n",
        "import matplotlib.pyplot as plt\n",
        "import tensorflow as tf\n",
        "import tensorflow.python.keras.activations #this module provide various activation function to use in your neural network\n",
        "#This is a private api intedended to use for devlopmenet\n",
        "#without including python it will be public api and much preferred but not working for me that's why i used the private api version\n",
        "from tensorflow.python.keras.layers import Dense, Input\n",
        "from tensorflow.python.keras import Sequential\n",
        "from tensorflow.python.keras.losses import MeanSquaredError, BinaryCrossentropy\n",
        "from tensorflow.python.keras.activations import sigmoid\n",
        "from lab_utils_common import dlc\n",
        "from lab_neurons_utils import plt_prob_1d, sigmoidnp, plt_linear, plt_logistic\n",
        "import tensorflow.python.keras.activations\n",
        "plt.style.use('./deeplearning.mplstyle')\n",
        "import logging\n",
        "logging.getLogger(\"tensorflow\").setLevel(logging.ERROR)\n",
        "tf.autograph.set_verbosity(0)"
      ]
    },
    {
      "cell_type": "code",
      "source": [],
      "metadata": {
        "id": "FFe9bFuaFMgY"
      },
      "execution_count": null,
      "outputs": []
    }
  ]
}