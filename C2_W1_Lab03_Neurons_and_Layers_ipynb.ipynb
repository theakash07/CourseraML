{
  "nbformat": 4,
  "nbformat_minor": 0,
  "metadata": {
    "colab": {
      "provenance": [],
      "authorship_tag": "ABX9TyPONmjO9g5/3gZ4vbkqPtxe",
      "include_colab_link": true
    },
    "kernelspec": {
      "name": "python3",
      "display_name": "Python 3"
    },
    "language_info": {
      "name": "python"
    }
  },
  "cells": [
    {
      "cell_type": "markdown",
      "metadata": {
        "id": "view-in-github",
        "colab_type": "text"
      },
      "source": [
        "<a href=\"https://colab.research.google.com/github/theakash07/CourseraML/blob/main/C2_W1_Lab03_Neurons_and_Layers_ipynb.ipynb\" target=\"_parent\"><img src=\"https://colab.research.google.com/assets/colab-badge.svg\" alt=\"Open In Colab\"/></a>"
      ]
    },
    {
      "cell_type": "code",
      "execution_count": 17,
      "metadata": {
        "colab": {
          "base_uri": "https://localhost:8080/"
        },
        "id": "Ze90uAsM5oNT",
        "outputId": "219d30eb-b9df-4b90-f581-02ae3571d07e"
      },
      "outputs": [
        {
          "output_type": "stream",
          "name": "stdout",
          "text": [
            "tf.Tensor([[0.7164436]], shape=(1, 1), dtype=float32)\n",
            "good\n"
          ]
        }
      ],
      "source": [
        "import numpy as np\n",
        "import tensorflow as tf\n",
        "from tensorflow.keras import layers\n",
        "from tensorflow.keras.layers import Dense\n",
        "x=np.array([[200.0, 17.0]])\n",
        "layer_1=Dense(units=3, activation=\"sigmoid\")\n",
        "a1=layer_1(x)\n",
        "#print(a1)\n",
        "layer_2=Dense(units=1,activation=\"sigmoid\")\n",
        "\n",
        "a2=layer_2(a1)\n",
        "print(a2)\n",
        "\n",
        "if a2 >= 0.5:\n",
        "  print(\"good\")\n",
        "else:\n",
        "  print(\"bad\")\n",
        "\n",
        "#we can perform this  code this way which is more manual but at the same time we can\n",
        "#make it little handy using sequential function\n",
        "#let me show you"
      ]
    },
    {
      "cell_type": "code",
      "source": [
        "import numpy as np\n",
        "import tensorflow as tf\n",
        "from tensorflow.keras.models import Sequential\n",
        "from tensorflow.keras.layers import Dense\n",
        "\n",
        "x = np.array([[200.0, 17.0]])\n",
        "\n",
        "layer1=Dense(units=3,activation=\"sigmoid\")\n",
        "layer2=Dense(units=1,activation=\"sigmoid\")\n",
        "\n",
        "model =Sequential([layer1, layer2])\n",
        "\n",
        "#can be written like this as well\n",
        "\n",
        "\"\"\"model = Sequential([Dense(units=3,activation=\"sigmoid\"),\n",
        "                       Dense(units=1,activation=\"sigmoid\") ])\"\"\"\n",
        "\n",
        "\n",
        "\n",
        "a2 = model(x)\n",
        "\n",
        "if a2 >= 0.5:\n",
        "    print(\"good\")\n",
        "else:\n",
        "    print(\"bad\")\n"
      ],
      "metadata": {
        "colab": {
          "base_uri": "https://localhost:8080/"
        },
        "id": "_s6AsHK0-CsJ",
        "outputId": "9fbf761b-0a1d-45ec-92ff-de1a81aacb6d"
      },
      "execution_count": 21,
      "outputs": [
        {
          "output_type": "stream",
          "name": "stdout",
          "text": [
            "bad\n"
          ]
        }
      ]
    }
  ]
}