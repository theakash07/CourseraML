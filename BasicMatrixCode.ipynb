{
  "nbformat": 4,
  "nbformat_minor": 0,
  "metadata": {
    "colab": {
      "provenance": [],
      "authorship_tag": "ABX9TyO8pMA3aXrEfIaKKpCPao5k",
      "include_colab_link": true
    },
    "kernelspec": {
      "name": "python3",
      "display_name": "Python 3"
    },
    "language_info": {
      "name": "python"
    }
  },
  "cells": [
    {
      "cell_type": "markdown",
      "metadata": {
        "id": "view-in-github",
        "colab_type": "text"
      },
      "source": [
        "<a href=\"https://colab.research.google.com/github/theakash07/CourseraML/blob/main/BasicMatrixCode.ipynb\" target=\"_parent\"><img src=\"https://colab.research.google.com/assets/colab-badge.svg\" alt=\"Open In Colab\"/></a>"
      ]
    },
    {
      "cell_type": "code",
      "execution_count": 2,
      "metadata": {
        "colab": {
          "base_uri": "https://localhost:8080/"
        },
        "id": "o70jv4rAPaCL",
        "outputId": "75f56498-4630-4c8b-b4b3-f46e126fdb38"
      },
      "outputs": [
        {
          "output_type": "stream",
          "name": "stdout",
          "text": [
            "[[ 11.   17.   23.    9. ]\n",
            " [-11.  -17.  -23.   -9. ]\n",
            " [  1.1   1.7   2.3   0.9]]\n"
          ]
        }
      ],
      "source": [
        "import numpy as np\n",
        "\n",
        "# Create a 2x3 matrix 'a'\n",
        "a = np.array([[1, -1, 0.1], [2, -2, 0.2]])\n",
        "\n",
        "# Transpose matrix 'a' to get 'w'\n",
        "w = a.T\n",
        "\n",
        "# Create a 2x4 matrix 'b'\n",
        "b = np.array([[3, 5, 7, 9], [4, 6, 8, 0]])\n",
        "\n",
        "# Perform matrix multiplication: z = w * b\n",
        "z = np.matmul(w, b)\n",
        "\n",
        "# Print the resulting matrix 'z'\n",
        "print(z)\n"
      ]
    }
  ]
}